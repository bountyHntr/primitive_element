{
 "cells": [
  {
   "attachments": {},
   "cell_type": "markdown",
   "id": "cacbaae6",
   "metadata": {},
   "source": [
    "## SageMath notebook"
   ]
  },
  {
   "cell_type": "code",
   "execution_count": null,
   "id": "1d7e7091",
   "metadata": {},
   "outputs": [],
   "source": [
    "F.<a> = GF(4231^10, modulus=\"primitive\")\n",
    "# F.<a> = GF(11)"
   ]
  },
  {
   "cell_type": "code",
   "execution_count": 180,
   "id": "f572b3da",
   "metadata": {},
   "outputs": [],
   "source": [
    "def print_el(el):\n",
    "    s = ', '.join(map(lambda x: x.split('*')[0], str(el).split('+')))\n",
    "    print(f\"{s}\\n{el}\")"
   ]
  },
  {
   "cell_type": "code",
   "execution_count": 181,
   "id": "f09a2895",
   "metadata": {
    "scrolled": true
   },
   "outputs": [
    {
     "data": {
      "text/plain": [
       "x^10 + 2049*x^9 + 1194*x^8 + 2386*x^7 + 459*x^6 + 1980*x^5 + 2554*x^4 + 3295*x^3 + 1898*x^2 + 2831*x + 311"
      ]
     },
     "execution_count": 181,
     "metadata": {},
     "output_type": "execute_result"
    }
   ],
   "source": [
    "F.modulus()"
   ]
  },
  {
   "cell_type": "code",
   "execution_count": 183,
   "id": "81a6e6d9",
   "metadata": {},
   "outputs": [],
   "source": [
    "a = F.gen()"
   ]
  },
  {
   "cell_type": "code",
   "execution_count": 185,
   "id": "dda4f3a6",
   "metadata": {
    "scrolled": true
   },
   "outputs": [
    {
     "data": {
      "text/plain": [
       "1838358694010887089833113107860962800"
      ]
     },
     "execution_count": 185,
     "metadata": {},
     "output_type": "execute_result"
    }
   ],
   "source": [
    "multiplicative_order = F.order() - 1\n",
    "multiplicative_order"
   ]
  },
  {
   "cell_type": "code",
   "execution_count": null,
   "id": "ee0796fd",
   "metadata": {},
   "outputs": [],
   "source": [
    "el = 3648*a^9 + 1434*a^8 + 1052*a^7 + 1292*a^6 + 4056*a^5 + 3180*a^4 + 899*a^3 + 1650*a^2 + 3776*a + 2424\n",
    "el"
   ]
  },
  {
   "cell_type": "code",
   "execution_count": 186,
   "id": "d6b59cce",
   "metadata": {
    "scrolled": true
   },
   "outputs": [],
   "source": [
    "for prime_factor, _ in factor(multiplicative_order):\n",
    "    g_d = el ** int(multiplicative_order / prime_factor)\n",
    "    if g_d == 1:\n",
    "        print(\"is not generator:\", prime_factor)"
   ]
  },
  {
   "cell_type": "code",
   "execution_count": null,
   "id": "dcc0e362",
   "metadata": {},
   "outputs": [],
   "source": []
  },
  {
   "cell_type": "code",
   "execution_count": 187,
   "id": "71e39008",
   "metadata": {},
   "outputs": [
    {
     "name": "stdout",
     "output_type": "stream",
     "text": [
      "4096,  922,  3307,  3274,  4120,  3811,  1089,  3031,  2171,  4193\n",
      "4096*a^9 + 922*a^8 + 3307*a^7 + 3274*a^6 + 4120*a^5 + 3811*a^4 + 1089*a^3 + 3031*a^2 + 2171*a + 4193\n"
     ]
    }
   ],
   "source": [
    "x1 = el ** 23234234\n",
    "print_el(x1)"
   ]
  },
  {
   "cell_type": "code",
   "execution_count": 188,
   "id": "65cf6aff",
   "metadata": {},
   "outputs": [
    {
     "name": "stdout",
     "output_type": "stream",
     "text": [
      "3244,  1630,  276,  53,  712,  3079,  1496,  2804,  1858,  4125\n",
      "3244*a^9 + 1630*a^8 + 276*a^7 + 53*a^6 + 712*a^5 + 3079*a^4 + 1496*a^3 + 2804*a^2 + 1858*a + 4125\n"
     ]
    }
   ],
   "source": [
    "x2 = el ** 234234928348923984923982438\n",
    "print_el(x2)"
   ]
  },
  {
   "cell_type": "code",
   "execution_count": 189,
   "id": "8e422c4f",
   "metadata": {},
   "outputs": [
    {
     "name": "stdout",
     "output_type": "stream",
     "text": [
      "2518,  3172,  1665,  3969,  353,  2443,  1450,  4208,  890,  3530\n",
      "2518*a^9 + 3172*a^8 + 1665*a^7 + 3969*a^6 + 353*a^5 + 2443*a^4 + 1450*a^3 + 4208*a^2 + 890*a + 3530\n"
     ]
    }
   ],
   "source": [
    "print_el(x1 * x2)"
   ]
  },
  {
   "cell_type": "code",
   "execution_count": 190,
   "id": "5321f766",
   "metadata": {},
   "outputs": [
    {
     "data": {
      "text/plain": [
       "3109*a^9 + 2552*a^8 + 3583*a^7 + 3327*a^6 + 601*a^5 + 2659*a^4 + 2585*a^3 + 1604*a^2 + 4029*a + 4087"
      ]
     },
     "execution_count": 190,
     "metadata": {},
     "output_type": "execute_result"
    }
   ],
   "source": [
    "x1 + x2"
   ]
  },
  {
   "cell_type": "code",
   "execution_count": null,
   "id": "cd7f30b3",
   "metadata": {},
   "outputs": [],
   "source": []
  }
 ],
 "metadata": {
  "kernelspec": {
   "display_name": "SageMath 9.5",
   "language": "sage",
   "name": "sagemath"
  },
  "language_info": {
   "codemirror_mode": {
    "name": "ipython",
    "version": 3
   },
   "file_extension": ".py",
   "mimetype": "text/x-python",
   "name": "python",
   "nbconvert_exporter": "python",
   "pygments_lexer": "ipython3",
   "version": "3.10.6"
  }
 },
 "nbformat": 4,
 "nbformat_minor": 5
}
